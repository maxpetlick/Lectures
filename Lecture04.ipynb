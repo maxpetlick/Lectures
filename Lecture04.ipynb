{
 "cells": [
  {
   "cell_type": "markdown",
   "metadata": {},
   "source": [
    "# Lecture 4 - Chain Rule, Total Probability, Recitation"
   ]
  },
  {
   "cell_type": "markdown",
   "metadata": {},
   "source": [
    "# Chain Rule - Using Conditional Probability to Decompose Events"
   ]
  },
  {
   "cell_type": "markdown",
   "metadata": {},
   "source": [
    "Let's use the **virtual whiteboard** to depict how we can decompose conditional probability using a tree-based sequential representation."
   ]
  },
  {
   "cell_type": "markdown",
   "metadata": {},
   "source": [
    "In general, note that:\n",
    "\n",
    "$$P(A|B) = \\frac{P(A\\cap B)}{P(B)}$$\n",
    "$$\\Rightarrow P(A\\cap B) = P(A|B)P(B)$$\n",
    "\n",
    "and\n",
    "\n",
    "$$P(B|A) = \\frac{P(A\\cap B)}{P(A)}$$\n",
    "$$\\Rightarrow P(A\\cap B) = P(B|A)P(A)$$\n",
    "\n",
    "These equations $P(A\\cap B) = P(A|B)P(B)$ and $P(A\\cap B) = P(B|A)P(A)$ are known as **chain rules** for expanding the probability of the intersection of two events. "
   ]
  },
  {
   "cell_type": "markdown",
   "metadata": {},
   "source": [
    "* The chain rule can be easily generalized to more than two events:\n",
    "\n",
    "\\begin{align}\n",
    "P(A\\cap B\\cap C) &= P(A)P(B|A)P(C|A\\cap B) \\\\\n",
    "&= P(A) \\cdot\\frac{P(A\\cap B)}{P(A)} \\cdot\\frac{P(A\\cap B\\cap C)}{P(A\\cap B)}\n",
    "\\end{align}\n",
    "\n",
    "Similarly,\n",
    "\n",
    "$$P(A\\cap B\\cap C) = P(A|B\\cap C)P(B|C)P(C)$$"
   ]
  },
  {
   "cell_type": "markdown",
   "metadata": {},
   "source": [
    "<div class=\"alert alert-info\" role=\"alert\">\n",
    "  <strong>Multiplication Rule</strong>\n",
    "    \n",
    "Assuming that all of the conditioning events have positive probability, we have\n",
    "    \n",
    "$$P\\left(\\bigcap_{i=1}^n A_i\\right) = P(A_1)P(A_2|A_1)P(A_3|A_1\\cap A_2)\\dots P\\left(A_n| \\cap_{i=1}^{n-1} A_i\\right)$$\n",
    "</div>"
   ]
  },
  {
   "cell_type": "markdown",
   "metadata": {},
   "source": [
    "# Total Probability Theorem (also known as the Law of Total Probability)"
   ]
  },
  {
   "cell_type": "markdown",
   "metadata": {},
   "source": [
    "A collection of events $A_1, A_2, \\dots$ **partitions** the sample space $\\Omega$ *if and only if*\n",
    "\n",
    "$$\\Omega = \\bigcup_i A_i$$\n",
    "\n",
    "and $A_i\\cap A_j = \\emptyset, i\\neq j$, i.e., they are disjoint events."
   ]
  },
  {
   "cell_type": "markdown",
   "metadata": {},
   "source": [
    "$\\{A_i\\}$ is also said to be a **partition** of $\\Omega$."
   ]
  },
  {
   "cell_type": "markdown",
   "metadata": {},
   "source": [
    "1. Let's visualize this partition using the Venn diagram. (**virtual whiteboard**)"
   ]
  },
  {
   "cell_type": "markdown",
   "metadata": {},
   "source": [
    "2. Let's also use a Venn diagram to express an arbitrary set using a partition of $\\Omega$ (**virtual whiteboard**)"
   ]
  },
  {
   "cell_type": "markdown",
   "metadata": {},
   "source": [
    "<!-- Let's first give names to possible events. Let $B_i$ be a blue ball in the $i^{th}$ draw. And, let $R_i$ be a red ball in the $i^{th}$ draw.\n",
    "\n",
    "We know that the cardinality of blue balls is $|B|=3$ and the cardinality of red balls is $|R| = 7$.\n",
    "\n",
    "Now, we want to compute $P(B_2)$. There are only 2 cases where we a blue ball is drawn in the 2nd draw: $B_1B_2$ and $R_1B_2$.\n",
    "\n",
    "So, the event $B_2 = (B_1\\cap B_2) \\cup (R_1\\cap B_2)$. And the events $B_1\\cap B_2$ and $B_1\\cap B_2$ are mutually exclusive! \n",
    "\n",
    "Then we can compute:\n",
    "\n",
    "\\begin{align*}\n",
    "P(B_2) &= P(B_1\\cap B_2) + P(R_1\\cap B_2) \\\\\n",
    "&= P(B_2|B_1)P(B_1) + P(B_2|R_1)P(R_1)\\text{, using the chain rule} \\\\\n",
    "&= \\frac{3}{10}\\times\\frac{3}{10} + \\frac{3}{9}\\times\\frac{7}{10}\\\\\n",
    "&\\approx 0.323\n",
    "\\end{align*} -->"
   ]
  },
  {
   "cell_type": "markdown",
   "metadata": {},
   "source": [
    "___"
   ]
  },
  {
   "cell_type": "markdown",
   "metadata": {},
   "source": [
    "<div class=\"alert alert-info\" role=\"alert\">\n",
    "  <strong>Total Probability Theorem</strong>\n",
    "    \n",
    "Also called **Total Probability Law**; if the set of events $\\{A_i\\}$ partitions $\\Omega$, then\n",
    "\n",
    "$$P(B) = \\sum_i P(B|A_i)P(A_i)$$\n",
    "</div>"
   ]
  },
  {
   "cell_type": "markdown",
   "metadata": {},
   "source": [
    "* Total probability is often used in problems where there is a **hidden state**.\n",
    "\n",
    "    * It is commonly used in Machine Learning when describing generative models."
   ]
  },
  {
   "cell_type": "markdown",
   "metadata": {},
   "source": [
    "* The problem with the magician with the two coins (fair and 2-headed) and computing the probability of heads is such a problem: what is the hidden state?\n",
    "\n",
    "    * Answer: which coin was picked"
   ]
  },
  {
   "cell_type": "markdown",
   "metadata": {},
   "source": [
    "* When applying chain rule in such problems, we are often conditioning on the different possibilities of the hidden state."
   ]
  }
 ],
 "metadata": {
  "kernelspec": {
   "display_name": "Python 3.9.7 ('base')",
   "language": "python",
   "name": "python3"
  },
  "language_info": {
   "codemirror_mode": {
    "name": "ipython",
    "version": 3
   },
   "file_extension": ".py",
   "mimetype": "text/x-python",
   "name": "python",
   "nbconvert_exporter": "python",
   "pygments_lexer": "ipython3",
   "version": "3.9.7"
  },
  "latex_envs": {
   "LaTeX_envs_menu_present": true,
   "autoclose": false,
   "autocomplete": true,
   "bibliofile": "biblio.bib",
   "cite_by": "apalike",
   "current_citInitial": 1,
   "eqLabelWithNumbers": true,
   "eqNumInitial": 1,
   "hotkeys": {
    "equation": "Ctrl-E",
    "itemize": "Ctrl-I"
   },
   "labels_anchors": false,
   "latex_user_defs": false,
   "report_style_numbering": false,
   "user_envs_cfg": false
  },
  "varInspector": {
   "cols": {
    "lenName": 16,
    "lenType": 16,
    "lenVar": 40
   },
   "kernels_config": {
    "python": {
     "delete_cmd_postfix": "",
     "delete_cmd_prefix": "del ",
     "library": "var_list.py",
     "varRefreshCmd": "print(var_dic_list())"
    },
    "r": {
     "delete_cmd_postfix": ") ",
     "delete_cmd_prefix": "rm(",
     "library": "var_list.r",
     "varRefreshCmd": "cat(var_dic_list()) "
    }
   },
   "types_to_exclude": [
    "module",
    "function",
    "builtin_function_or_method",
    "instance",
    "_Feature"
   ],
   "window_display": false
  },
  "vscode": {
   "interpreter": {
    "hash": "eb45e10f7f1bf7bb3ee1a2b2fdb3b72b753c887550b73c99c003bd2847d6a5ff"
   }
  }
 },
 "nbformat": 4,
 "nbformat_minor": 4
}
